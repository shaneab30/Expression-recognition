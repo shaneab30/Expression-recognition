{
 "cells": [
  {
   "cell_type": "code",
   "execution_count": null,
   "metadata": {},
   "outputs": [
    {
     "name": "stdout",
     "output_type": "stream",
     "text": [
      "c:\\Python312\\python.exe\n"
     ]
    }
   ],
   "source": [
    "import sys\n",
    "print(sys.executable)"
   ]
  },
  {
   "cell_type": "code",
   "execution_count": 1,
   "metadata": {},
   "outputs": [],
   "source": [
    "import os\n",
    "import numpy as np\n",
    "from PIL import Image\n",
    "from sklearn.model_selection import train_test_split, GridSearchCV\n",
    "from sklearn.preprocessing import LabelEncoder, StandardScaler\n",
    "from sklearn.neighbors import KNeighborsClassifier\n",
    "from sklearn.metrics import classification_report, accuracy_score\n",
    "from sklearn.decomposition import PCA\n",
    "from sklearn.feature_selection import SelectKBest, f_classif\n",
    "from pickle import dump, load\n",
    "import matplotlib.pyplot as plt\n",
    "from imblearn.over_sampling import SMOTE\n",
    "\n",
    "from sklearn.model_selection import ParameterGrid\n",
    "from sklearn.neighbors import KNeighborsClassifier\n",
    "from sklearn.model_selection import GridSearchCV\n",
    "from sklearn.metrics import classification_report\n",
    "\n"
   ]
  },
  {
   "cell_type": "code",
   "execution_count": 2,
   "metadata": {},
   "outputs": [
    {
     "name": "stdout",
     "output_type": "stream",
     "text": [
      "Attempting to load existing dataset...\n",
      "Dataset loaded successfully!\n"
     ]
    },
    {
     "ename": "KeyboardInterrupt",
     "evalue": "",
     "output_type": "error",
     "traceback": [
      "\u001b[1;31m---------------------------------------------------------------------------\u001b[0m",
      "\u001b[1;31mKeyboardInterrupt\u001b[0m                         Traceback (most recent call last)",
      "Cell \u001b[1;32mIn[2], line 40\u001b[0m\n\u001b[0;32m     37\u001b[0m     X_original, X, y \u001b[38;5;241m=\u001b[39m load_images(images_folder, save_file_to\u001b[38;5;241m=\u001b[39mdataset_file)\n\u001b[0;32m     38\u001b[0m     \u001b[38;5;28mprint\u001b[39m(\u001b[38;5;124m\"\u001b[39m\u001b[38;5;124mImages loaded and dataset saved!\u001b[39m\u001b[38;5;124m\"\u001b[39m)\n\u001b[1;32m---> 40\u001b[0m X_original, X, y \u001b[38;5;241m=\u001b[39m \u001b[43mload_images\u001b[49m\u001b[43m(\u001b[49m\u001b[43mimages_folder\u001b[49m\u001b[43m,\u001b[49m\u001b[43m \u001b[49m\u001b[43msave_file_to\u001b[49m\u001b[38;5;241;43m=\u001b[39;49m\u001b[43mdataset_file\u001b[49m\u001b[43m)\u001b[49m\n",
      "Cell \u001b[1;32mIn[2], line 13\u001b[0m, in \u001b[0;36mload_images\u001b[1;34m(images_folder, save_file_to)\u001b[0m\n\u001b[0;32m     10\u001b[0m img_path \u001b[38;5;241m=\u001b[39m os\u001b[38;5;241m.\u001b[39mpath\u001b[38;5;241m.\u001b[39mjoin(subdir, file)\n\u001b[0;32m     11\u001b[0m label \u001b[38;5;241m=\u001b[39m os\u001b[38;5;241m.\u001b[39mpath\u001b[38;5;241m.\u001b[39mbasename(subdir)\n\u001b[1;32m---> 13\u001b[0m image \u001b[38;5;241m=\u001b[39m \u001b[43mImage\u001b[49m\u001b[38;5;241;43m.\u001b[39;49m\u001b[43mopen\u001b[49m\u001b[43m(\u001b[49m\u001b[43mimg_path\u001b[49m\u001b[43m)\u001b[49m\u001b[38;5;241m.\u001b[39mconvert(\u001b[38;5;124m'\u001b[39m\u001b[38;5;124mL\u001b[39m\u001b[38;5;124m'\u001b[39m)\n\u001b[0;32m     14\u001b[0m image \u001b[38;5;241m=\u001b[39m image\u001b[38;5;241m.\u001b[39mresize((\u001b[38;5;241m48\u001b[39m, \u001b[38;5;241m48\u001b[39m))\n\u001b[0;32m     15\u001b[0m X_original\u001b[38;5;241m.\u001b[39mappend(np\u001b[38;5;241m.\u001b[39marray(image)\u001b[38;5;241m.\u001b[39mflatten())\n",
      "File \u001b[1;32m~\\AppData\\Roaming\\Python\\Python312\\site-packages\\PIL\\Image.py:3469\u001b[0m, in \u001b[0;36mopen\u001b[1;34m(fp, mode, formats)\u001b[0m\n\u001b[0;32m   3466\u001b[0m     filename \u001b[38;5;241m=\u001b[39m os\u001b[38;5;241m.\u001b[39mpath\u001b[38;5;241m.\u001b[39mrealpath(os\u001b[38;5;241m.\u001b[39mfspath(fp))\n\u001b[0;32m   3468\u001b[0m \u001b[38;5;28;01mif\u001b[39;00m filename:\n\u001b[1;32m-> 3469\u001b[0m     fp \u001b[38;5;241m=\u001b[39m \u001b[43mbuiltins\u001b[49m\u001b[38;5;241;43m.\u001b[39;49m\u001b[43mopen\u001b[49m\u001b[43m(\u001b[49m\u001b[43mfilename\u001b[49m\u001b[43m,\u001b[49m\u001b[43m \u001b[49m\u001b[38;5;124;43m\"\u001b[39;49m\u001b[38;5;124;43mrb\u001b[39;49m\u001b[38;5;124;43m\"\u001b[39;49m\u001b[43m)\u001b[49m\n\u001b[0;32m   3470\u001b[0m     exclusive_fp \u001b[38;5;241m=\u001b[39m \u001b[38;5;28;01mTrue\u001b[39;00m\n\u001b[0;32m   3471\u001b[0m \u001b[38;5;28;01melse\u001b[39;00m:\n",
      "\u001b[1;31mKeyboardInterrupt\u001b[0m: "
     ]
    }
   ],
   "source": [
    "# Define function to load images\n",
    "def load_images(images_folder, save_file_to=None):\n",
    "    X_original = []\n",
    "    X = []\n",
    "    y = []\n",
    "    \n",
    "    for subdir, dirs, files in os.walk(images_folder):\n",
    "        for file in files:\n",
    "            if file.endswith(('jpg', 'jpeg', 'png')):\n",
    "                img_path = os.path.join(subdir, file)\n",
    "                label = os.path.basename(subdir)\n",
    "                \n",
    "                image = Image.open(img_path).convert('L')\n",
    "                image = image.resize((48, 48))\n",
    "                X_original.append(np.array(image).flatten())\n",
    "                X.append(np.array(image).flatten())\n",
    "                y.append(label)\n",
    "    \n",
    "    if save_file_to:\n",
    "        with open(save_file_to, \"wb\") as f:\n",
    "            dump((X_original, X, y), f, protocol=5)\n",
    "    \n",
    "    return np.array(X_original), np.array(X), np.array(y)\n",
    "\n",
    "# Define paths\n",
    "images_folder = 'D:/projects/machine learning/Expression-recognition/jonathanheix dataset/images'\n",
    "dataset_file = \"dataset_dump.pkl\"\n",
    "\n",
    "# Load or create dataset\n",
    "try:\n",
    "    print(\"Attempting to load existing dataset...\")\n",
    "    with open(dataset_file, \"rb\") as f:\n",
    "        X_original, X, y = load(f)\n",
    "    print(\"Dataset loaded successfully!\")\n",
    "except (FileNotFoundError, EOFError):\n",
    "    print(\"Dataset not found or corrupt. Loading images from folder...\")\n",
    "    X_original, X, y = load_images(images_folder, save_file_to=dataset_file)\n",
    "    print(\"Images loaded and dataset saved!\")\n",
    "\n",
    "X_original, X, y = load_images(images_folder, save_file_to=dataset_file)"
   ]
  },
  {
   "cell_type": "code",
   "execution_count": null,
   "metadata": {},
   "outputs": [],
   "source": [
    "# with open(\"dataset_dump.pkl\", \"rb\") as f:\n",
    "#     X_original,X,y = load(f)"
   ]
  },
  {
   "cell_type": "code",
   "execution_count": null,
   "metadata": {},
   "outputs": [
    {
     "data": {
      "text/plain": [
       "array(['angry', 'angry', 'angry', ..., 'surprise', 'surprise', 'surprise'],\n",
       "      dtype='<U8')"
      ]
     },
     "execution_count": 4,
     "metadata": {},
     "output_type": "execute_result"
    }
   ],
   "source": [
    "# Convert lists to NumPy arrays\n",
    "X = np.array(X)\n",
    "y = np.array(y)\n",
    "\n",
    "X\n",
    "y"
   ]
  },
  {
   "cell_type": "code",
   "execution_count": null,
   "metadata": {},
   "outputs": [
    {
     "name": "stdout",
     "output_type": "stream",
     "text": [
      "Reduced dimensions from 2304 to 100 features\n"
     ]
    }
   ],
   "source": [
    "# Improved preprocessing function\n",
    "def preprocessing_data(X, y, save_file_to=None):\n",
    "    # Normalize pixel values\n",
    "    X = X / 255.0  # Normalize to [0, 1]\n",
    "    \n",
    "    # Encode labels\n",
    "    label_encoder = LabelEncoder()\n",
    "    y_encoded = label_encoder.fit_transform(y)\n",
    "    \n",
    "    # Dimensionality reduction with PCA\n",
    "    pca = PCA(n_components=100 , random_state=42)\n",
    "    X_reduced = pca.fit_transform(X)\n",
    "    print(f\"Reduced dimensions from {X.shape[1]} to {X_reduced.shape[1]} features\")\n",
    "    \n",
    "    # Standardize the data\n",
    "    scaler = StandardScaler()\n",
    "    X_scaled = scaler.fit_transform(X_reduced)\n",
    "    \n",
    "    if save_file_to:\n",
    "        with open(save_file_to, \"wb\") as f:\n",
    "            dump((X_scaled, y_encoded, label_encoder, pca, scaler), f, protocol=5)\n",
    "    \n",
    "    return X_scaled, y_encoded, label_encoder, pca, scaler\n",
    "\n",
    "# Preprocess data\n",
    "preprocessed_file = \"improved_preprocessed_data.pkl\"\n",
    "X_scaled, y_encoded, label_encoder, pca, scaler = preprocessing_data(X, y, save_file_to=preprocessed_file)\n"
   ]
  },
  {
   "cell_type": "code",
   "execution_count": null,
   "metadata": {},
   "outputs": [],
   "source": [
    "# with open(\"labelencoder_standardscaler_pca_normalizers_dump.pkl\", \"rb\") as f:\n",
    "#     X_scaled, y_encoded, label_encoder, pca, scaler = load(f)\n",
    "\n",
    "# # x_scaled and y_encoded not used"
   ]
  },
  {
   "cell_type": "code",
   "execution_count": null,
   "metadata": {},
   "outputs": [
    {
     "name": "stdout",
     "output_type": "stream",
     "text": [
      "Training set: (28709, 100), Test set: (7178, 100)\n"
     ]
    }
   ],
   "source": [
    "# Split data into training and testing sets\n",
    "X_train, X_test, y_train, y_test = train_test_split(X_scaled, y_encoded, test_size=0.2, random_state=42)\n",
    "print(f\"Training set: {X_train.shape}, Test set: {X_test.shape}\")"
   ]
  },
  {
   "cell_type": "code",
   "execution_count": null,
   "metadata": {},
   "outputs": [
    {
     "data": {
      "text/plain": [
       "array([-1.79116483,  0.94931656,  0.40220183, -0.11693062,  0.27933893,\n",
       "        0.59049278,  0.37153049,  0.67187619,  0.29758249, -0.00828928,\n",
       "        0.7432875 ,  0.6838269 ,  0.74841523,  0.28399686,  0.13926557,\n",
       "       -0.43773895,  1.16766364,  0.16644848,  0.36402819,  0.34800125,\n",
       "       -0.16733222, -1.76448968,  0.36782008, -0.67938466,  0.38887564,\n",
       "       -0.27187098,  1.03191719,  0.10258647,  0.12302504,  0.0600637 ,\n",
       "       -0.87041293,  0.17274261, -0.46927196,  0.93965777, -0.8017916 ,\n",
       "        1.52022749,  0.57109003, -0.15748486, -0.02731442,  0.00805049,\n",
       "       -0.5572959 , -0.1963725 ,  0.33119482,  0.37225864,  0.30581839,\n",
       "        0.90148898,  1.10723723,  1.16505234,  0.20995787,  1.35037464,\n",
       "       -0.19643083, -0.5695753 , -0.30008004, -0.42073461, -1.06005851,\n",
       "        0.14542548, -0.91634721, -0.59744328, -0.05326466, -0.43665335,\n",
       "        1.03740252,  0.61599385,  0.26410441, -0.68963425, -1.26886847,\n",
       "       -0.61093107, -0.10572116, -0.09213942, -0.22034638,  1.12585153,\n",
       "       -0.54174774,  0.27274262,  0.37485983,  0.36566486, -0.18990323,\n",
       "        0.54227531, -0.83686194,  0.01256785, -1.14727131,  0.7079927 ,\n",
       "        0.22291082,  0.08701908,  0.50969184, -0.73894085, -0.7886711 ,\n",
       "       -0.84658347, -0.19299168,  0.56786605,  0.55596779,  0.19525579,\n",
       "        0.45797459,  1.42824382, -1.22507855, -1.55679673,  0.32026216,\n",
       "        1.08533171,  0.66715726,  0.47854711, -0.337097  , -0.48425699])"
      ]
     },
     "execution_count": 8,
     "metadata": {},
     "output_type": "execute_result"
    }
   ],
   "source": [
    "X_train[0]"
   ]
  },
  {
   "cell_type": "code",
   "execution_count": null,
   "metadata": {},
   "outputs": [
    {
     "name": "stdout",
     "output_type": "stream",
     "text": [
      "Class distribution before balancing: {np.int64(0): np.int64(3943), np.int64(1): np.int64(442), np.int64(2): np.int64(4056), np.int64(3): np.int64(7223), np.int64(4): np.int64(4986), np.int64(5): np.int64(4863), np.int64(6): np.int64(3196)}\n",
      "Detected class imbalance, applying SMOTE...\n",
      "Class distribution after balancing: {np.int64(0): np.int64(7223), np.int64(1): np.int64(7223), np.int64(2): np.int64(7223), np.int64(3): np.int64(7223), np.int64(4): np.int64(7223), np.int64(5): np.int64(7223), np.int64(6): np.int64(7223)}\n"
     ]
    }
   ],
   "source": [
    "\n",
    "# Handle class imbalance\n",
    "def handle_class_imbalance(X_train, y_train):\n",
    "    # Check class distribution\n",
    "    unique, counts = np.unique(y_train, return_counts=True)\n",
    "    class_dist = dict(zip(unique, counts))\n",
    "    print(\"Class distribution before balancing:\", class_dist)\n",
    "    \n",
    "    # Only apply SMOTE if imbalanced\n",
    "    if max(counts) / min(counts) > 1.5:  # Threshold for imbalance\n",
    "        print(\"Detected class imbalance, applying SMOTE...\")\n",
    "        smote = SMOTE(random_state=42)\n",
    "        X_resampled, y_resampled = smote.fit_resample(X_train, y_train)\n",
    "        \n",
    "        unique_after, counts_after = np.unique(y_resampled, return_counts=True)\n",
    "        print(\"Class distribution after balancing:\", dict(zip(unique_after, counts_after)))\n",
    "        return X_resampled, y_resampled\n",
    "    \n",
    "    print(\"No significant class imbalance detected.\")\n",
    "    return X_train, y_train\n",
    "\n",
    "X_train_balanced, y_train_balanced = handle_class_imbalance(X_train, y_train)"
   ]
  },
  {
   "cell_type": "code",
   "execution_count": null,
   "metadata": {},
   "outputs": [
    {
     "name": "stdout",
     "output_type": "stream",
     "text": [
      "Selecting top 100 features...\n",
      "Features reduced from 100 to 100\n"
     ]
    }
   ],
   "source": [
    "\n",
    "# Feature selection\n",
    "def select_features(X_train, X_test, y_train, k=None):\n",
    "    if k is None:\n",
    "        k = min(200, X_train.shape[1])  # Default: select top 200 features or less\n",
    "    else:\n",
    "        k = min(k, X_train.shape[1])  # Ensure k doesn't exceed available features\n",
    "        \n",
    "    print(f\"Selecting top {k} features...\")\n",
    "    \n",
    "    # Use f_classif which works for any input values (unlike chi2 which requires non-negative)\n",
    "    selector = SelectKBest(f_classif, k=k)\n",
    "    X_train_selected = selector.fit_transform(X_train, y_train)\n",
    "    X_test_selected = selector.transform(X_test)\n",
    "    \n",
    "    print(f\"Features reduced from {X_train.shape[1]} to {X_train_selected.shape[1]}\")\n",
    "    return X_train_selected, X_test_selected, selector\n",
    "\n",
    "X_train_selected, X_test_selected, selector = select_features(X_train_balanced, X_test, y_train_balanced)\n"
   ]
  },
  {
   "cell_type": "code",
   "execution_count": null,
   "metadata": {},
   "outputs": [
    {
     "name": "stdout",
     "output_type": "stream",
     "text": [
      "\n",
      "🔍 Tuning KNN Hyperparameters with Cross-Validation...\n",
      "\n",
      "-----------------------------------------\n",
      "📌 Cross-validation: 5-fold\n",
      "🛠️ Hyperparameter Grid: 32 combinations\n",
      "-----------------------------------------\n",
      "\n",
      "Fitting 5 folds for each of 32 candidates, totalling 160 fits\n",
      "\n",
      "✅ Best Combination Found:\n",
      "-----------------------------------------\n",
      "🔧 metric: euclidean\n",
      "🔧 n_neighbors: 3\n",
      "🔧 p: 1\n",
      "🔧 weights: distance\n",
      "-----------------------------------------\n",
      "🏅 Best Cross-Validation Accuracy: 0.38\n",
      "\n",
      "🔬 Detailed Accuracy for Each Combination:\n",
      "-----------------------------------------\n",
      "🔧 {'metric': 'euclidean', 'n_neighbors': 3, 'p': 1, 'weights': 'uniform'} ➜ 🎯 Accuracy: 0.35\n",
      "🔧 {'metric': 'euclidean', 'n_neighbors': 3, 'p': 1, 'weights': 'distance'} ➜ 🎯 Accuracy: 0.40\n",
      "🔧 {'metric': 'euclidean', 'n_neighbors': 3, 'p': 2, 'weights': 'uniform'} ➜ 🎯 Accuracy: 0.35\n",
      "🔧 {'metric': 'euclidean', 'n_neighbors': 3, 'p': 2, 'weights': 'distance'} ➜ 🎯 Accuracy: 0.40\n",
      "🔧 {'metric': 'euclidean', 'n_neighbors': 5, 'p': 1, 'weights': 'uniform'} ➜ 🎯 Accuracy: 0.35\n",
      "🔧 {'metric': 'euclidean', 'n_neighbors': 5, 'p': 1, 'weights': 'distance'} ➜ 🎯 Accuracy: 0.39\n",
      "🔧 {'metric': 'euclidean', 'n_neighbors': 5, 'p': 2, 'weights': 'uniform'} ➜ 🎯 Accuracy: 0.35\n",
      "🔧 {'metric': 'euclidean', 'n_neighbors': 5, 'p': 2, 'weights': 'distance'} ➜ 🎯 Accuracy: 0.39\n",
      "🔧 {'metric': 'euclidean', 'n_neighbors': 7, 'p': 1, 'weights': 'uniform'} ➜ 🎯 Accuracy: 0.34\n",
      "🔧 {'metric': 'euclidean', 'n_neighbors': 7, 'p': 1, 'weights': 'distance'} ➜ 🎯 Accuracy: 0.39\n",
      "🔧 {'metric': 'euclidean', 'n_neighbors': 7, 'p': 2, 'weights': 'uniform'} ➜ 🎯 Accuracy: 0.34\n",
      "🔧 {'metric': 'euclidean', 'n_neighbors': 7, 'p': 2, 'weights': 'distance'} ➜ 🎯 Accuracy: 0.39\n",
      "🔧 {'metric': 'euclidean', 'n_neighbors': 9, 'p': 1, 'weights': 'uniform'} ➜ 🎯 Accuracy: 0.34\n",
      "🔧 {'metric': 'euclidean', 'n_neighbors': 9, 'p': 1, 'weights': 'distance'} ➜ 🎯 Accuracy: 0.39\n",
      "🔧 {'metric': 'euclidean', 'n_neighbors': 9, 'p': 2, 'weights': 'uniform'} ➜ 🎯 Accuracy: 0.34\n",
      "🔧 {'metric': 'euclidean', 'n_neighbors': 9, 'p': 2, 'weights': 'distance'} ➜ 🎯 Accuracy: 0.39\n",
      "🔧 {'metric': 'manhattan', 'n_neighbors': 3, 'p': 1, 'weights': 'uniform'} ➜ 🎯 Accuracy: 0.34\n",
      "🔧 {'metric': 'manhattan', 'n_neighbors': 3, 'p': 1, 'weights': 'distance'} ➜ 🎯 Accuracy: 0.39\n",
      "🔧 {'metric': 'manhattan', 'n_neighbors': 3, 'p': 2, 'weights': 'uniform'} ➜ 🎯 Accuracy: 0.34\n",
      "🔧 {'metric': 'manhattan', 'n_neighbors': 3, 'p': 2, 'weights': 'distance'} ➜ 🎯 Accuracy: 0.39\n",
      "🔧 {'metric': 'manhattan', 'n_neighbors': 5, 'p': 1, 'weights': 'uniform'} ➜ 🎯 Accuracy: 0.34\n",
      "🔧 {'metric': 'manhattan', 'n_neighbors': 5, 'p': 1, 'weights': 'distance'} ➜ 🎯 Accuracy: 0.39\n",
      "🔧 {'metric': 'manhattan', 'n_neighbors': 5, 'p': 2, 'weights': 'uniform'} ➜ 🎯 Accuracy: 0.34\n",
      "🔧 {'metric': 'manhattan', 'n_neighbors': 5, 'p': 2, 'weights': 'distance'} ➜ 🎯 Accuracy: 0.39\n",
      "🔧 {'metric': 'manhattan', 'n_neighbors': 7, 'p': 1, 'weights': 'uniform'} ➜ 🎯 Accuracy: 0.33\n",
      "🔧 {'metric': 'manhattan', 'n_neighbors': 7, 'p': 1, 'weights': 'distance'} ➜ 🎯 Accuracy: 0.38\n",
      "🔧 {'metric': 'manhattan', 'n_neighbors': 7, 'p': 2, 'weights': 'uniform'} ➜ 🎯 Accuracy: 0.33\n",
      "🔧 {'metric': 'manhattan', 'n_neighbors': 7, 'p': 2, 'weights': 'distance'} ➜ 🎯 Accuracy: 0.38\n",
      "🔧 {'metric': 'manhattan', 'n_neighbors': 9, 'p': 1, 'weights': 'uniform'} ➜ 🎯 Accuracy: 0.32\n",
      "🔧 {'metric': 'manhattan', 'n_neighbors': 9, 'p': 1, 'weights': 'distance'} ➜ 🎯 Accuracy: 0.38\n",
      "🔧 {'metric': 'manhattan', 'n_neighbors': 9, 'p': 2, 'weights': 'uniform'} ➜ 🎯 Accuracy: 0.32\n",
      "🔧 {'metric': 'manhattan', 'n_neighbors': 9, 'p': 2, 'weights': 'distance'} ➜ 🎯 Accuracy: 0.38\n",
      "-----------------------------------------\n",
      "\n",
      "\n",
      "🚀 Evaluating on Test Set...\n",
      "🎯 Final Test Set Accuracy: 0.40\n",
      "▶ Classification Report:\n",
      "-----------------------------------------\n",
      "              precision    recall  f1-score   support\n",
      "\n",
      "       angry       0.40      0.28      0.33      1010\n",
      "     disgust       0.30      0.46      0.36       105\n",
      "        fear       0.40      0.36      0.38      1065\n",
      "       happy       0.49      0.42      0.45      1766\n",
      "     neutral       0.28      0.46      0.35      1212\n",
      "         sad       0.35      0.31      0.33      1214\n",
      "    surprise       0.60      0.57      0.58       806\n",
      "\n",
      "    accuracy                           0.40      7178\n",
      "   macro avg       0.40      0.41      0.40      7178\n",
      "weighted avg       0.41      0.40      0.40      7178\n",
      "\n",
      "-----------------------------------------\n",
      "\n"
     ]
    }
   ],
   "source": [
    "from sklearn.neighbors import KNeighborsClassifier\n",
    "from sklearn.model_selection import GridSearchCV, ParameterGrid\n",
    "from sklearn.metrics import accuracy_score, classification_report\n",
    "\n",
    "\n",
    "def optimize_knn_with_output(X_train, y_train, X_test, y_test, label_encoder, cv=5):\n",
    "    param_grid = {\n",
    "        'n_neighbors': [3, 5, 7, 9],\n",
    "        'weights': ['uniform', 'distance'],\n",
    "        'metric': ['euclidean', 'manhattan'],\n",
    "        'p': [1, 2]\n",
    "    }\n",
    "\n",
    "    best_combination = None\n",
    "    best_accuracy = 0\n",
    "    all_combinations = list(ParameterGrid(param_grid))\n",
    "\n",
    "    print(\"\\n🔍 Tuning KNN Hyperparameters with Cross-Validation...\\n\")\n",
    "    print(f\"📌 Cross-validation: {cv}-fold\")\n",
    "    print(f\"🛠️ Total combinations to test: {len(all_combinations)}\\n\")\n",
    "\n",
    "    grid_search = GridSearchCV(\n",
    "        KNeighborsClassifier(),\n",
    "        param_grid,\n",
    "        cv=cv,\n",
    "        scoring='accuracy',\n",
    "        n_jobs=-1,\n",
    "        verbose=1\n",
    "    )\n",
    "\n",
    "    # Fit on training data\n",
    "    grid_search.fit(X_train, y_train)\n",
    "\n",
    "    # Get the best model and parameters\n",
    "    best_model = grid_search.best_estimator_\n",
    "    best_combination = grid_search.best_params_\n",
    "    best_accuracy = grid_search.best_score_\n",
    "\n",
    "    # Display best results\n",
    "    print(\"\\n✅ Best Combination Found:\")\n",
    "    print(\"-----------------------------------------\")\n",
    "    for param, value in best_combination.items():\n",
    "        print(f\"🔧 {param}: {value}\")\n",
    "    print(\"-----------------------------------------\")\n",
    "    print(f\"🏅 Best Cross-Validation Accuracy: {best_accuracy:.2f}\\n\")\n",
    "\n",
    "    print(\"🔬 Detailed Accuracy for Each Combination:\")\n",
    "    print(\"-----------------------------------------\")\n",
    "    for idx, combination in enumerate(all_combinations, start=1):\n",
    "        knn_model = KNeighborsClassifier(**combination)\n",
    "        knn_model.fit(X_train, y_train)\n",
    "        accuracy = knn_model.score(X_test, y_test)\n",
    "\n",
    "        print(f\"Combination {idx}/{len(all_combinations)}: {combination} ➜ 🎯 Accuracy: {accuracy:.2f}\")\n",
    "        if accuracy > best_accuracy:\n",
    "            best_accuracy = accuracy\n",
    "            best_combination = combination\n",
    "    print(\"-----------------------------------------\\n\")\n",
    "\n",
    "    # Evaluate on the test set\n",
    "    print(\"\\n🚀 Evaluating on Test Set...\")\n",
    "    y_pred = best_model.predict(X_test)\n",
    "    final_accuracy = accuracy_score(y_test, y_pred)\n",
    "    print(f\"🎯 Final Test Set Accuracy: {final_accuracy:.2f}\")\n",
    "    print(\"▶ Classification Report:\")\n",
    "    print(\"-----------------------------------------\")\n",
    "    print(classification_report(y_test, y_pred, target_names=label_encoder.classes_))\n",
    "    print(\"-----------------------------------------\\n\")\n",
    "\n",
    "    return best_model, best_combination\n",
    "\n",
    "\n",
    "# Example usage:\n",
    "best_model, best_params = optimize_knn_with_output(X_train, y_train, X_test, y_test, label_encoder, cv=5)\n"
   ]
  },
  {
   "cell_type": "code",
   "execution_count": null,
   "metadata": {},
   "outputs": [
    {
     "name": "stdout",
     "output_type": "stream",
     "text": [
      "\n",
      "Model Evaluation:\n",
      "Accuracy: 0.3955\n",
      "\n",
      "Classification Report:\n",
      "              precision    recall  f1-score   support\n",
      "\n",
      "       angry       0.40      0.28      0.33      1010\n",
      "     disgust       0.30      0.46      0.36       105\n",
      "        fear       0.40      0.36      0.38      1065\n",
      "       happy       0.49      0.42      0.45      1766\n",
      "     neutral       0.28      0.46      0.35      1212\n",
      "         sad       0.35      0.31      0.33      1214\n",
      "    surprise       0.60      0.57      0.58       806\n",
      "\n",
      "    accuracy                           0.40      7178\n",
      "   macro avg       0.40      0.41      0.40      7178\n",
      "weighted avg       0.41      0.40      0.40      7178\n",
      "\n"
     ]
    }
   ],
   "source": [
    "\n",
    "# Evaluate the model\n",
    "def evaluate_model(model, X_test, y_test, label_encoder):\n",
    "    # Make predictions\n",
    "    y_pred = model.predict(X_test)\n",
    "    \n",
    "    # Calculate accuracy\n",
    "    accuracy = accuracy_score(y_test, y_pred)\n",
    "    \n",
    "    # Print evaluation metrics\n",
    "    print(f\"\\nModel Evaluation:\")\n",
    "    print(f\"Accuracy: {accuracy:.4f}\")\n",
    "    print(\"\\nClassification Report:\")\n",
    "    print(classification_report(y_test, y_pred, target_names=label_encoder.classes_))\n",
    "    \n",
    "    return y_pred, accuracy\n",
    "\n",
    "y_pred, accuracy = evaluate_model(best_model, X_test_selected, y_test, label_encoder)\n"
   ]
  },
  {
   "cell_type": "code",
   "execution_count": null,
   "metadata": {},
   "outputs": [
    {
     "data": {
      "image/png": "[encoded data removed]",
      "text/plain": [
       "<Figure size 1500x1500 with 5 Axes>"
      ]
     },
     "metadata": {},
     "output_type": "display_data"
    }
   ],
   "source": [
    "\n",
    "# Visualize predictions\n",
    "def visualize_predictions(model, X_test, y_test, label_encoder, X_original, indices=None, num_samples=5):\n",
    "    y_pred = model.predict(X_test)\n",
    "    \n",
    "    # If specific indices not provided, sample random ones\n",
    "    if indices is None:\n",
    "        indices = np.random.choice(len(y_test), min(num_samples, len(y_test)), replace=False)\n",
    "    \n",
    "    plt.figure(figsize=(15, 3*len(indices)))\n",
    "    \n",
    "    for i, idx in enumerate(indices):\n",
    "        plt.subplot(len(indices), 1, i+1)\n",
    "        original_image = X_original[idx].reshape(48, 48)\n",
    "        plt.imshow(original_image, cmap='gray')\n",
    "        \n",
    "        correct = y_test[idx] == y_pred[idx]\n",
    "        color = 'green' if correct else 'red'\n",
    "        \n",
    "        plt.title(f\"True: {label_encoder.inverse_transform([y_test[idx]])[0]}, \"\n",
    "                  f\"Predicted: {label_encoder.inverse_transform([y_pred[idx]])[0]}\",\n",
    "                  color=color)\n",
    "        plt.axis('off')\n",
    "    \n",
    "    plt.tight_layout()\n",
    "    plt.show()\n",
    "\n",
    "visualize_predictions(best_model, X_test_selected, y_test, label_encoder, X_original)\n"
   ]
  },
  {
   "cell_type": "code",
   "execution_count": null,
   "metadata": {},
   "outputs": [
    {
     "name": "stdout",
     "output_type": "stream",
     "text": [
      "Model saved to improved_knn_model.pkl\n"
     ]
    }
   ],
   "source": [
    "\n",
    "# Save the final model\n",
    "model_file = \"improved_knn_model.pkl\"\n",
    "with open(model_file, \"wb\") as f:\n",
    "    dump((best_model, pca, scaler, selector, label_encoder, best_params), f, protocol=5)\n",
    "print(f\"Model saved to {model_file}\")\n",
    "\n",
    "# To load and use the model later:\n",
    "# with open(model_file, \"rb\") as f:\n",
    "#     best_model, pca, scaler, selector, label_encoder, best_params = load(f)\n",
    "#\n",
    "# # For new data:\n",
    "# def predict_new_image(image_path, model, pca, scaler, selector, label_encoder):\n",
    "#     # Load and preprocess image\n",
    "#     image = Image.open(image_path).convert('L')\n",
    "#     image = image.resize((48, 48))\n",
    "#     flat_image = np.array(image).flatten() / 255.0\n",
    "#     \n",
    "#     # Apply transformations\n",
    "#     transformed = pca.transform([flat_image])\n",
    "#     transformed = scaler.transform(transformed)\n",
    "#     transformed = selector.transform(transformed)\n",
    "#     \n",
    "#     # Predict\n",
    "#     prediction = model.predict(transformed)\n",
    "#     label = label_encoder.inverse_transform(prediction)[0]\n",
    "#     \n",
    "#     return label"
   ]
  }
 ],
 "metadata": {
  "kernelspec": {
   "display_name": "base",
   "language": "python",
   "name": "python3"
  },
  "language_info": {
   "codemirror_mode": {
    "name": "ipython",
    "version": 3
   },
   "file_extension": ".py",
   "mimetype": "text/x-python",
   "name": "python",
   "nbconvert_exporter": "python",
   "pygments_lexer": "ipython3",
   "version": "3.12.2"
  }
 },
 "nbformat": 4,
 "nbformat_minor": 2
}
