{
 "cells": [
  {
   "cell_type": "code",
   "execution_count": 12,
   "metadata": {},
   "outputs": [],
   "source": [
    "import pandas as pd\n",
    "import numpy as np\n",
    "from sklearn.model_selection import train_test_split\n",
    "from sklearn.svm import SVC\n",
    "from sklearn.metrics import classification_report, accuracy_score\n",
    "import matplotlib.pyplot as plt\n",
    "from sklearn.preprocessing import StandardScaler, LabelEncoder\n",
    "from sklearn.decomposition import PCA\n",
    "import os\n",
    "from PIL import Image\n",
    "from sklearn.model_selection import GridSearchCV"
   ]
  },
  {
   "cell_type": "code",
   "execution_count": 13,
   "metadata": {},
   "outputs": [],
   "source": [
    "images_folder = '../images'\n",
    "\n",
    "X = []\n",
    "y = []\n",
    "\n",
    "for subdir, dirs, files in os.walk(images_folder):\n",
    "    for file in files:\n",
    "        if file.endswith(('jpg', 'jpeg', 'png')):\n",
    "            img_path = os.path.join(subdir, file)\n",
    "            label = os.path.basename(subdir)\n",
    "            \n",
    "            image = Image.open(img_path).convert('L')\n",
    "            image = image.resize((48, 48))\n",
    "            X.append(np.array(image).flatten())\n",
    "            y.append(label)"
   ]
  },
  {
   "cell_type": "code",
   "execution_count": 14,
   "metadata": {},
   "outputs": [],
   "source": [
    "X = np.array(X)\n",
    "y = np.array(y)"
   ]
  },
  {
   "cell_type": "code",
   "execution_count": 15,
   "metadata": {},
   "outputs": [],
   "source": [
    "# Normalize image data\n",
    "X = X / 255.0  # Normalize pixel values to [0, 1]"
   ]
  },
  {
   "cell_type": "code",
   "execution_count": 16,
   "metadata": {},
   "outputs": [],
   "source": [
    "# Encode labels as integers\n",
    "label_encoder = LabelEncoder()\n",
    "y = label_encoder.fit_transform(y)"
   ]
  },
  {
   "cell_type": "code",
   "execution_count": 17,
   "metadata": {},
   "outputs": [],
   "source": [
    "pca = PCA(n_components=100)  # Reduce to 100 components\n",
    "X_reduced = pca.fit_transform(X)"
   ]
  },
  {
   "cell_type": "code",
   "execution_count": 18,
   "metadata": {},
   "outputs": [],
   "source": [
    "scaler = StandardScaler()\n",
    "X_scaled = scaler.fit_transform(X_reduced)"
   ]
  },
  {
   "cell_type": "code",
   "execution_count": 19,
   "metadata": {},
   "outputs": [],
   "source": [
    "X_train , X_test, y_train, y_test =  train_test_split(X_scaled, y, test_size=0.2, random_state=42)\n"
   ]
  },
  {
   "cell_type": "code",
   "execution_count": 25,
   "metadata": {},
   "outputs": [
    {
     "name": "stdout",
     "output_type": "stream",
     "text": [
      "Fitting 3 folds for each of 6 candidates, totalling 18 fits\n",
      "Best Parameters: {'C': 100, 'degree': 3, 'gamma': 'scale', 'kernel': 'poly'}\n"
     ]
    }
   ],
   "source": [
    "# Grid Search\n",
    "param_grid = {\n",
    "    'C': [10, 100],  # Smaller range for C\n",
    "    'kernel': ['rbf', 'poly', 'sigmoid'], # Common kernels\n",
    "    'gamma': ['scale'],  # Focus on 'scale' and a specific value\n",
    "    'degree': [3],  # Fixed degree for 'poly' kernel\n",
    "}\n",
    "\n",
    "\n",
    "\n",
    "# Perform Grid Search with 5-fold cross-validation\n",
    "svc_model = GridSearchCV(SVC(), param_grid, cv=3, verbose=2, n_jobs=2)\n",
    "svc_model.fit(X_train, y_train)\n",
    "print(\"Best Parameters:\", svc_model.best_params_)"
   ]
  },
  {
   "cell_type": "code",
   "execution_count": 23,
   "metadata": {},
   "outputs": [
    {
     "data": {
      "text/plain": [
       "array([4, 4, 3, ..., 4, 5, 2])"
      ]
     },
     "execution_count": 23,
     "metadata": {},
     "output_type": "execute_result"
    }
   ],
   "source": [
    "# Make Prediciton\n",
    "best_knn = svc_model.best_estimator_\n",
    "best_knn\n",
    "y_pred = best_knn.predict(X_test)\n",
    "y_pred"
   ]
  },
  {
   "cell_type": "code",
   "execution_count": 24,
   "metadata": {},
   "outputs": [
    {
     "name": "stdout",
     "output_type": "stream",
     "text": [
      "Classification Report:\n",
      "Accuracy: 0.8835249042145594\n",
      "              precision    recall  f1-score   support\n",
      "\n",
      "       angry       0.84      0.85      0.85      1963\n",
      "     disgust       0.97      0.91      0.94       217\n",
      "        fear       0.86      0.85      0.86      2064\n",
      "       happy       0.91      0.93      0.92      3590\n",
      "     neutral       0.87      0.88      0.88      2504\n",
      "         sad       0.86      0.86      0.86      2417\n",
      "    surprise       0.94      0.91      0.93      1600\n",
      "\n",
      "    accuracy                           0.88     14355\n",
      "   macro avg       0.90      0.88      0.89     14355\n",
      "weighted avg       0.88      0.88      0.88     14355\n",
      "\n",
      "Accuracy: 0.88\n"
     ]
    }
   ],
   "source": [
    "# Evaluate the model\n",
    "print(\"Classification Report:\")\n",
    "print(\"Accuracy:\", accuracy_score(y_test, y_pred))\n",
    "print(classification_report(y_test, y_pred, target_names=label_encoder.classes_))\n",
    "print(f\"Accuracy: {accuracy_score(y_test, y_pred):.2f}\")"
   ]
  }
 ],
 "metadata": {
  "kernelspec": {
   "display_name": "Python 3",
   "language": "python",
   "name": "python3"
  },
  "language_info": {
   "codemirror_mode": {
    "name": "ipython",
    "version": 3
   },
   "file_extension": ".py",
   "mimetype": "text/x-python",
   "name": "python",
   "nbconvert_exporter": "python",
   "pygments_lexer": "ipython3",
   "version": "3.12.6"
  }
 },
 "nbformat": 4,
 "nbformat_minor": 2
}
