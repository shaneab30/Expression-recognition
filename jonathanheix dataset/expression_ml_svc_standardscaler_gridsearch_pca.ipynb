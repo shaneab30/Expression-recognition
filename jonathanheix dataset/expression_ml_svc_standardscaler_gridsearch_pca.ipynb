{
 "cells": [
  {
   "cell_type": "code",
   "execution_count": 8,
   "metadata": {},
   "outputs": [],
   "source": [
    "import pandas as pd\n",
    "import numpy as np\n",
    "from sklearn.model_selection import train_test_split\n",
    "from sklearn.svm import SVC\n",
    "from sklearn.metrics import classification_report, accuracy_score\n",
    "import matplotlib.pyplot as plt\n",
    "from sklearn.preprocessing import StandardScaler, LabelEncoder\n",
    "from sklearn.decomposition import PCA\n",
    "import os\n",
    "from PIL import Image\n",
    "from sklearn.model_selection import GridSearchCV\n",
    "from pickle import dump\n",
    "from sklearn.model_selection import ParameterGrid\n"
   ]
  },
  {
   "cell_type": "code",
   "execution_count": 9,
   "metadata": {},
   "outputs": [],
   "source": [
    "images_folder = '/Users/shaneab/Projects/Machine Learning/Expression recognition/jonathanheix dataset/images'\n",
    "\n",
    "X = []\n",
    "y = []\n",
    "\n",
    "for subdir, dirs, files in os.walk(images_folder):\n",
    "    for file in files:\n",
    "        if file.endswith(('jpg', 'jpeg', 'png')):\n",
    "            img_path = os.path.join(subdir, file)\n",
    "            label = os.path.basename(subdir)\n",
    "            \n",
    "            image = Image.open(img_path).convert('L')\n",
    "            image = image.resize((48, 48))\n",
    "            X.append(np.array(image).flatten())\n",
    "            y.append(label)\n",
    "\n",
    "with open(\"svc_standardscaler_gridsearch_xy_dump.pkl\", \"wb\") as f:\n",
    "    dump((X,y), f, protocol=5)"
   ]
  },
  {
   "cell_type": "code",
   "execution_count": 10,
   "metadata": {},
   "outputs": [],
   "source": [
    "X = np.array(X)\n",
    "y = np.array(y)"
   ]
  },
  {
   "cell_type": "code",
   "execution_count": 11,
   "metadata": {},
   "outputs": [],
   "source": [
    "# Normalize image data\n",
    "X = X / 255.0  # Normalize pixel values to [0, 1]"
   ]
  },
  {
   "cell_type": "code",
   "execution_count": 12,
   "metadata": {},
   "outputs": [],
   "source": [
    "# Encode labels as integers\n",
    "label_encoder = LabelEncoder()\n",
    "y = label_encoder.fit_transform(y)"
   ]
  },
  {
   "cell_type": "code",
   "execution_count": 13,
   "metadata": {},
   "outputs": [],
   "source": [
    "pca = PCA(n_components=100)  # Reduce to 100 components\n",
    "X_reduced = pca.fit_transform(X)"
   ]
  },
  {
   "cell_type": "code",
   "execution_count": 14,
   "metadata": {},
   "outputs": [],
   "source": [
    "scaler = StandardScaler()\n",
    "X_scaled = scaler.fit_transform(X_reduced)"
   ]
  },
  {
   "cell_type": "code",
   "execution_count": 15,
   "metadata": {},
   "outputs": [],
   "source": [
    "with open(\"svc_standardscaler_gridsearch_normalizers_dump.pkl\", \"wb\") as f:\n",
    "    dump((label_encoder, pca, scaler), f, protocol=5)"
   ]
  },
  {
   "cell_type": "code",
   "execution_count": 16,
   "metadata": {},
   "outputs": [],
   "source": [
    "X_train , X_test, y_train, y_test =  train_test_split(X_scaled, y, test_size=0.2, random_state=42)\n"
   ]
  },
  {
   "cell_type": "code",
   "execution_count": null,
   "metadata": {},
   "outputs": [
    {
     "name": "stdout",
     "output_type": "stream",
     "text": [
      "{'C': 1, 'degree': 1, 'gamma': 'scale', 'kernel': 'rbf'}\n",
      "Accuracy: 0.69\n",
      "Classification Report:\n",
      "              precision    recall  f1-score   support\n",
      "\n",
      "       angry       0.72      0.53      0.61      2001\n",
      "     disgust       0.97      0.38      0.55       231\n",
      "        fear       0.71      0.56      0.62      2068\n",
      "       happy       0.68      0.86      0.76      3578\n",
      "     neutral       0.63      0.68      0.66      2441\n",
      "         sad       0.62      0.66      0.64      2429\n",
      "    surprise       0.86      0.75      0.80      1607\n",
      "\n",
      "    accuracy                           0.69     14355\n",
      "   macro avg       0.74      0.63      0.66     14355\n",
      "weighted avg       0.70      0.69      0.68     14355\n",
      "\n",
      "{'C': 1, 'degree': 1, 'gamma': 'scale', 'kernel': 'poly'}\n",
      "Accuracy: 0.38\n",
      "Classification Report:\n",
      "              precision    recall  f1-score   support\n",
      "\n",
      "       angry       0.31      0.13      0.19      2001\n",
      "     disgust       0.00      0.00      0.00       231\n",
      "        fear       0.27      0.12      0.16      2068\n",
      "       happy       0.43      0.72      0.54      3578\n",
      "     neutral       0.33      0.34      0.34      2441\n",
      "         sad       0.30      0.32      0.31      2429\n",
      "    surprise       0.51      0.46      0.49      1607\n",
      "\n",
      "    accuracy                           0.38     14355\n",
      "   macro avg       0.31      0.30      0.29     14355\n",
      "weighted avg       0.35      0.38      0.35     14355\n",
      "\n",
      "{'C': 1, 'degree': 1, 'gamma': 'scale', 'kernel': 'sigmoid'}\n"
     ]
    },
    {
     "name": "stderr",
     "output_type": "stream",
     "text": [
      "/opt/homebrew/Caskroom/miniconda/base/lib/python3.12/site-packages/sklearn/metrics/_classification.py:1531: UndefinedMetricWarning: Precision is ill-defined and being set to 0.0 in labels with no predicted samples. Use `zero_division` parameter to control this behavior.\n",
      "  _warn_prf(average, modifier, f\"{metric.capitalize()} is\", len(result))\n",
      "/opt/homebrew/Caskroom/miniconda/base/lib/python3.12/site-packages/sklearn/metrics/_classification.py:1531: UndefinedMetricWarning: Precision is ill-defined and being set to 0.0 in labels with no predicted samples. Use `zero_division` parameter to control this behavior.\n",
      "  _warn_prf(average, modifier, f\"{metric.capitalize()} is\", len(result))\n",
      "/opt/homebrew/Caskroom/miniconda/base/lib/python3.12/site-packages/sklearn/metrics/_classification.py:1531: UndefinedMetricWarning: Precision is ill-defined and being set to 0.0 in labels with no predicted samples. Use `zero_division` parameter to control this behavior.\n",
      "  _warn_prf(average, modifier, f\"{metric.capitalize()} is\", len(result))\n"
     ]
    },
    {
     "name": "stdout",
     "output_type": "stream",
     "text": [
      "Accuracy: 0.29\n",
      "Classification Report:\n",
      "              precision    recall  f1-score   support\n",
      "\n",
      "       angry       0.14      0.09      0.11      2001\n",
      "     disgust       0.00      0.00      0.00       231\n",
      "        fear       0.13      0.08      0.10      2068\n",
      "       happy       0.39      0.60      0.47      3578\n",
      "     neutral       0.25      0.26      0.25      2441\n",
      "         sad       0.22      0.21      0.21      2429\n",
      "    surprise       0.33      0.31      0.32      1607\n",
      "\n",
      "    accuracy                           0.29     14355\n",
      "   macro avg       0.21      0.22      0.21     14355\n",
      "weighted avg       0.25      0.29      0.26     14355\n",
      "\n",
      "{'C': 1, 'degree': 2, 'gamma': 'scale', 'kernel': 'rbf'}\n"
     ]
    },
    {
     "name": "stderr",
     "output_type": "stream",
     "text": [
      "/opt/homebrew/Caskroom/miniconda/base/lib/python3.12/site-packages/sklearn/metrics/_classification.py:1531: UndefinedMetricWarning: Precision is ill-defined and being set to 0.0 in labels with no predicted samples. Use `zero_division` parameter to control this behavior.\n",
      "  _warn_prf(average, modifier, f\"{metric.capitalize()} is\", len(result))\n",
      "/opt/homebrew/Caskroom/miniconda/base/lib/python3.12/site-packages/sklearn/metrics/_classification.py:1531: UndefinedMetricWarning: Precision is ill-defined and being set to 0.0 in labels with no predicted samples. Use `zero_division` parameter to control this behavior.\n",
      "  _warn_prf(average, modifier, f\"{metric.capitalize()} is\", len(result))\n",
      "/opt/homebrew/Caskroom/miniconda/base/lib/python3.12/site-packages/sklearn/metrics/_classification.py:1531: UndefinedMetricWarning: Precision is ill-defined and being set to 0.0 in labels with no predicted samples. Use `zero_division` parameter to control this behavior.\n",
      "  _warn_prf(average, modifier, f\"{metric.capitalize()} is\", len(result))\n"
     ]
    },
    {
     "name": "stdout",
     "output_type": "stream",
     "text": [
      "Accuracy: 0.69\n",
      "Classification Report:\n",
      "              precision    recall  f1-score   support\n",
      "\n",
      "       angry       0.72      0.53      0.61      2001\n",
      "     disgust       0.97      0.38      0.55       231\n",
      "        fear       0.71      0.56      0.62      2068\n",
      "       happy       0.68      0.86      0.76      3578\n",
      "     neutral       0.63      0.68      0.66      2441\n",
      "         sad       0.62      0.66      0.64      2429\n",
      "    surprise       0.86      0.75      0.80      1607\n",
      "\n",
      "    accuracy                           0.69     14355\n",
      "   macro avg       0.74      0.63      0.66     14355\n",
      "weighted avg       0.70      0.69      0.68     14355\n",
      "\n",
      "{'C': 1, 'degree': 2, 'gamma': 'scale', 'kernel': 'poly'}\n",
      "Accuracy: 0.54\n",
      "Classification Report:\n",
      "              precision    recall  f1-score   support\n",
      "\n",
      "       angry       0.51      0.40      0.45      2001\n",
      "     disgust       0.93      0.34      0.50       231\n",
      "        fear       0.49      0.40      0.44      2068\n",
      "       happy       0.54      0.76      0.63      3578\n",
      "     neutral       0.48      0.51      0.49      2441\n",
      "         sad       0.49      0.44      0.47      2429\n",
      "    surprise       0.78      0.61      0.69      1607\n",
      "\n",
      "    accuracy                           0.54     14355\n",
      "   macro avg       0.60      0.49      0.52     14355\n",
      "weighted avg       0.54      0.54      0.53     14355\n",
      "\n",
      "{'C': 1, 'degree': 2, 'gamma': 'scale', 'kernel': 'sigmoid'}\n",
      "Accuracy: 0.29\n",
      "Classification Report:\n",
      "              precision    recall  f1-score   support\n",
      "\n",
      "       angry       0.14      0.09      0.11      2001\n",
      "     disgust       0.00      0.00      0.00       231\n",
      "        fear       0.13      0.08      0.10      2068\n",
      "       happy       0.39      0.60      0.47      3578\n",
      "     neutral       0.25      0.26      0.25      2441\n",
      "         sad       0.22      0.21      0.21      2429\n",
      "    surprise       0.33      0.31      0.32      1607\n",
      "\n",
      "    accuracy                           0.29     14355\n",
      "   macro avg       0.21      0.22      0.21     14355\n",
      "weighted avg       0.25      0.29      0.26     14355\n",
      "\n",
      "{'C': 1, 'degree': 3, 'gamma': 'scale', 'kernel': 'rbf'}\n"
     ]
    },
    {
     "name": "stderr",
     "output_type": "stream",
     "text": [
      "/opt/homebrew/Caskroom/miniconda/base/lib/python3.12/site-packages/sklearn/metrics/_classification.py:1531: UndefinedMetricWarning: Precision is ill-defined and being set to 0.0 in labels with no predicted samples. Use `zero_division` parameter to control this behavior.\n",
      "  _warn_prf(average, modifier, f\"{metric.capitalize()} is\", len(result))\n",
      "/opt/homebrew/Caskroom/miniconda/base/lib/python3.12/site-packages/sklearn/metrics/_classification.py:1531: UndefinedMetricWarning: Precision is ill-defined and being set to 0.0 in labels with no predicted samples. Use `zero_division` parameter to control this behavior.\n",
      "  _warn_prf(average, modifier, f\"{metric.capitalize()} is\", len(result))\n",
      "/opt/homebrew/Caskroom/miniconda/base/lib/python3.12/site-packages/sklearn/metrics/_classification.py:1531: UndefinedMetricWarning: Precision is ill-defined and being set to 0.0 in labels with no predicted samples. Use `zero_division` parameter to control this behavior.\n",
      "  _warn_prf(average, modifier, f\"{metric.capitalize()} is\", len(result))\n"
     ]
    },
    {
     "name": "stdout",
     "output_type": "stream",
     "text": [
      "Accuracy: 0.69\n",
      "Classification Report:\n",
      "              precision    recall  f1-score   support\n",
      "\n",
      "       angry       0.72      0.53      0.61      2001\n",
      "     disgust       0.97      0.38      0.55       231\n",
      "        fear       0.71      0.56      0.62      2068\n",
      "       happy       0.68      0.86      0.76      3578\n",
      "     neutral       0.63      0.68      0.66      2441\n",
      "         sad       0.62      0.66      0.64      2429\n",
      "    surprise       0.86      0.75      0.80      1607\n",
      "\n",
      "    accuracy                           0.69     14355\n",
      "   macro avg       0.74      0.63      0.66     14355\n",
      "weighted avg       0.70      0.69      0.68     14355\n",
      "\n",
      "{'C': 1, 'degree': 3, 'gamma': 'scale', 'kernel': 'poly'}\n",
      "Accuracy: 0.71\n",
      "Classification Report:\n",
      "              precision    recall  f1-score   support\n",
      "\n",
      "       angry       0.94      0.54      0.69      2001\n",
      "     disgust       0.99      0.39      0.55       231\n",
      "        fear       0.93      0.60      0.73      2068\n",
      "       happy       0.53      0.97      0.68      3578\n",
      "     neutral       0.78      0.69      0.73      2441\n",
      "         sad       0.83      0.61      0.71      2429\n",
      "    surprise       0.95      0.74      0.83      1607\n",
      "\n",
      "    accuracy                           0.71     14355\n",
      "   macro avg       0.85      0.65      0.70     14355\n",
      "weighted avg       0.79      0.71      0.72     14355\n",
      "\n",
      "{'C': 1, 'degree': 3, 'gamma': 'scale', 'kernel': 'sigmoid'}\n",
      "Accuracy: 0.29\n",
      "Classification Report:\n",
      "              precision    recall  f1-score   support\n",
      "\n",
      "       angry       0.14      0.09      0.11      2001\n",
      "     disgust       0.00      0.00      0.00       231\n",
      "        fear       0.13      0.08      0.10      2068\n",
      "       happy       0.39      0.60      0.47      3578\n",
      "     neutral       0.25      0.26      0.25      2441\n",
      "         sad       0.22      0.21      0.21      2429\n",
      "    surprise       0.33      0.31      0.32      1607\n",
      "\n",
      "    accuracy                           0.29     14355\n",
      "   macro avg       0.21      0.22      0.21     14355\n",
      "weighted avg       0.25      0.29      0.26     14355\n",
      "\n",
      "{'C': 10, 'degree': 1, 'gamma': 'scale', 'kernel': 'rbf'}\n"
     ]
    },
    {
     "name": "stderr",
     "output_type": "stream",
     "text": [
      "/opt/homebrew/Caskroom/miniconda/base/lib/python3.12/site-packages/sklearn/metrics/_classification.py:1531: UndefinedMetricWarning: Precision is ill-defined and being set to 0.0 in labels with no predicted samples. Use `zero_division` parameter to control this behavior.\n",
      "  _warn_prf(average, modifier, f\"{metric.capitalize()} is\", len(result))\n",
      "/opt/homebrew/Caskroom/miniconda/base/lib/python3.12/site-packages/sklearn/metrics/_classification.py:1531: UndefinedMetricWarning: Precision is ill-defined and being set to 0.0 in labels with no predicted samples. Use `zero_division` parameter to control this behavior.\n",
      "  _warn_prf(average, modifier, f\"{metric.capitalize()} is\", len(result))\n",
      "/opt/homebrew/Caskroom/miniconda/base/lib/python3.12/site-packages/sklearn/metrics/_classification.py:1531: UndefinedMetricWarning: Precision is ill-defined and being set to 0.0 in labels with no predicted samples. Use `zero_division` parameter to control this behavior.\n",
      "  _warn_prf(average, modifier, f\"{metric.capitalize()} is\", len(result))\n"
     ]
    }
   ],
   "source": [
    "# Grid Search\n",
    "param_grid = {\n",
    "    'C': [1, 10, 100],  # Smaller range for C\n",
    "    'kernel': ['rbf', 'poly', 'sigmoid'],\n",
    "    'gamma': ['scale'], \n",
    "    'degree': [1, 2, 3],  \n",
    "}\n",
    "\n",
    "all_combinations = list(ParameterGrid(param_grid))\n",
    "\n",
    "for combination in all_combinations:\n",
    "    print(combination)\n",
    "    \n",
    "    svc = SVC(**combination)\n",
    "    svc.fit(X_train, y_train)\n",
    "\n",
    "    # Make predictions\n",
    "    y_pred = svc.predict(X_test)\n",
    "\n",
    "    # Evaluate the model\n",
    "    accuracy = accuracy_score(y_test, y_pred)\n",
    "    print(f\"Accuracy: {accuracy:.2f}\")\n",
    "    print(\"Classification Report:\")\n",
    "    print(classification_report(y_test, y_pred, target_names=label_encoder.classes_))\n",
    "\n",
    "\n",
    "print(\"\\nTotal combinations:\", len(all_combinations))\n",
    "\n",
    "\n",
    "# Perform Grid Search with 5-fold cross-validation\n",
    "svc_model = GridSearchCV(SVC(), param_grid, cv=3, verbose=2, n_jobs=2)\n",
    "svc_model.fit(X_train, y_train)\n",
    "\n",
    "with open(\"svc_model_standardscaler_grisearch_pca_dump.pkl\", \"wb\") as f:\n",
    "    dump(svc_model, f, protocol=5)\n",
    "\n",
    "print(\"Best Parameters:\", svc_model.best_params_)"
   ]
  },
  {
   "cell_type": "code",
   "execution_count": 19,
   "metadata": {},
   "outputs": [
    {
     "data": {
      "text/plain": [
       "array([4, 4, 3, ..., 4, 5, 2])"
      ]
     },
     "execution_count": 19,
     "metadata": {},
     "output_type": "execute_result"
    }
   ],
   "source": [
    "# Make Prediciton\n",
    "best_knn = svc_model.best_estimator_\n",
    "best_knn\n",
    "y_pred = best_knn.predict(X_test)\n",
    "y_pred"
   ]
  },
  {
   "cell_type": "code",
   "execution_count": 20,
   "metadata": {},
   "outputs": [
    {
     "name": "stdout",
     "output_type": "stream",
     "text": [
      "Classification Report:\n",
      "Accuracy: 0.8946011842563567\n",
      "              precision    recall  f1-score   support\n",
      "\n",
      "       angry       0.90      0.85      0.87      1963\n",
      "     disgust       0.93      0.91      0.92       217\n",
      "        fear       0.91      0.86      0.88      2064\n",
      "       happy       0.90      0.93      0.92      3590\n",
      "     neutral       0.85      0.90      0.87      2504\n",
      "         sad       0.89      0.87      0.88      2417\n",
      "    surprise       0.93      0.93      0.93      1600\n",
      "\n",
      "    accuracy                           0.89     14355\n",
      "   macro avg       0.90      0.89      0.90     14355\n",
      "weighted avg       0.90      0.89      0.89     14355\n",
      "\n",
      "Accuracy: 0.89\n"
     ]
    }
   ],
   "source": [
    "# Evaluate the model\n",
    "print(\"Classification Report:\")\n",
    "print(\"Accuracy:\", accuracy_score(y_test, y_pred))\n",
    "print(classification_report(y_test, y_pred, target_names=label_encoder.classes_))\n",
    "print(f\"Accuracy: {accuracy_score(y_test, y_pred):.2f}\")"
   ]
  },
  {
   "cell_type": "code",
   "execution_count": 21,
   "metadata": {},
   "outputs": [],
   "source": [
    "# Here you can replace pickle with joblib or cloudpickle\n",
    "# from pickle import dump\n",
    "# with open(\"filename.pkl\", \"wb\") as f:\n",
    "#     dump(clf, f, protocol=5)"
   ]
  }
 ],
 "metadata": {
  "kernelspec": {
   "display_name": "base",
   "language": "python",
   "name": "python3"
  },
  "language_info": {
   "codemirror_mode": {
    "name": "ipython",
    "version": 3
   },
   "file_extension": ".py",
   "mimetype": "text/x-python",
   "name": "python",
   "nbconvert_exporter": "python",
   "pygments_lexer": "ipython3",
   "version": "3.12.2"
  }
 },
 "nbformat": 4,
 "nbformat_minor": 2
}
