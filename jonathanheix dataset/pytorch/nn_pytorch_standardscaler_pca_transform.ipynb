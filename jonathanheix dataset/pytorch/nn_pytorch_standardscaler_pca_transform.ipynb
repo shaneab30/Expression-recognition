{
 "cells": [
  {
   "cell_type": "code",
   "execution_count": null,
   "metadata": {},
   "outputs": [],
   "source": [
    "import os\n",
    "import numpy as np\n",
    "import torch\n",
    "import torch.nn as nn\n",
    "import torch.optim as optim\n",
    "from sklearn.decomposition import PCA\n",
    "from sklearn.preprocessing import StandardScaler, LabelEncoder\n",
    "from sklearn.model_selection import train_test_split\n",
    "from torchvision import transforms\n",
    "from torch.utils.data import DataLoader, Dataset\n",
    "from PIL import Image\n",
    "import matplotlib.pyplot as plt\n",
    "from pickle import dump, load"
   ]
  },
  {
   "cell_type": "code",
   "execution_count": null,
   "metadata": {},
   "outputs": [],
   "source": [
    "# Step 1: Load and preprocess images\n",
    "def load_images(images_folder, save_file_to=None):\n",
    "    X_original = []\n",
    "    X = []\n",
    "    y = []\n",
    "\n",
    "    for subdir, dirs, files in os.walk(images_folder):\n",
    "        for file in files:\n",
    "            if file.endswith(('jpg', 'jpeg', 'png')):\n",
    "                img_path = os.path.join(subdir, file)\n",
    "                label = os.path.basename(subdir)\n",
    "\n",
    "                image = Image.open(img_path).convert('L')  # Convert to grayscale\n",
    "                image = image.resize((48, 48))  # Resize to 48x48\n",
    "                X_original.append(np.array(image).flatten())\n",
    "                X.append(np.array(image).flatten())\n",
    "                y.append(label)\n",
    "\n",
    "    if save_file_to:\n",
    "        with open(save_file_to, \"wb\") as f:\n",
    "            dump((X_original, X, y), f, protocol=5)\n",
    "\n",
    "    return np.array(X_original), np.array(X), np.array(y)\n",
    "\n",
    "images_folder = \"../images\"\n",
    "dataset_file = \"dataset_dump.pkl\"\n",
    "\n",
    "\n",
    "X_original, X, y = load_images(images_folder, save_file_to=dataset_file)"
   ]
  },
  {
   "cell_type": "code",
   "execution_count": null,
   "metadata": {},
   "outputs": [],
   "source": [
    "with open(\"dataset_dump.pkl\", \"rb\") as f:\n",
    "    X_original,X,y = load(f)\n",
    "    \n",
    "X\n",
    "y"
   ]
  },
  {
   "cell_type": "code",
   "execution_count": null,
   "metadata": {},
   "outputs": [],
   "source": [
    "# Step 2: PCA + StandardScaler preprocessing\n",
    "def preprocessing_data(X, y, n_components=100, save_file_to=None):\n",
    "    X = X / 255.0  # Normalize pixel values to [0, 1]\n",
    "\n",
    "    label_encoder = LabelEncoder()\n",
    "    y_encoded = label_encoder.fit_transform(y)\n",
    "\n",
    "    pca = PCA(n_components=n_components)\n",
    "    X_reduced = pca.fit_transform(X)\n",
    "\n",
    "    scaler = StandardScaler()\n",
    "    X_scaled = scaler.fit_transform(X_reduced)\n",
    "\n",
    "    if save_file_to:\n",
    "        with open(save_file_to, \"wb\") as f:\n",
    "            dump((X_scaled, y_encoded, label_encoder, pca, scaler), f, protocol=5)\n",
    "\n",
    "    return X_scaled, y_encoded, label_encoder, pca, scaler\n",
    "\n",
    "X_scaled, y_encoded, label_encoder, pca, scaler = preprocessing_data(X, y, save_file_to=\"preprocessed_data.pkl\")\n"
   ]
  },
  {
   "cell_type": "code",
   "execution_count": null,
   "metadata": {},
   "outputs": [],
   "source": [
    "with open(\"labelencoder_standardscaler_pca_normalizers_dump.pkl\", \"rb\") as f:\n",
    "    X_scaled, y_encoded, label_encoder, pca, scaler = load(f)"
   ]
  },
  {
   "cell_type": "code",
   "execution_count": null,
   "metadata": {},
   "outputs": [],
   "source": [
    "# Step 3: Dataset and Transformations\n",
    "class CustomDataset(Dataset):\n",
    "    def __init__(self, X, y, transform=None):\n",
    "        self.X = X\n",
    "        self.y = y\n",
    "        self.transform = transform\n",
    "\n",
    "    def __len__(self):\n",
    "        return len(self.X)\n",
    "\n",
    "    def __getitem__(self, idx):\n",
    "        data = self.X[idx].reshape(10, 10)  # Reshape PCA-reduced data (100 components -> 10x10 grid)\n",
    "        label = self.y[idx]\n",
    "\n",
    "        if self.transform:\n",
    "            data = Image.fromarray((data * 255).astype(np.uint8))  # Convert to PIL for transforms\n",
    "            data = self.transform(data)\n",
    "\n",
    "        return data, label\n"
   ]
  },
  {
   "cell_type": "code",
   "execution_count": null,
   "metadata": {},
   "outputs": [],
   "source": [
    "# Define transformations\n",
    "image_transforms = transforms.Compose([\n",
    "    transforms.RandomHorizontalFlip(),\n",
    "    transforms.RandomRotation(15),\n",
    "    transforms.ToTensor(),\n",
    "    transforms.Normalize(mean=[0.5], std=[0.5])\n",
    "])\n",
    "\n",
    "# Split data into train/test sets\n",
    "X_train, X_test, y_train, y_test = train_test_split(X_scaled, y_encoded, test_size=0.2, random_state=42)\n",
    "\n",
    "# Create datasets and dataloaders\n",
    "train_dataset = CustomDataset(X_train, y_train, transform=image_transforms)\n",
    "test_dataset = CustomDataset(X_test, y_test, transform=image_transforms)\n",
    "\n",
    "train_loader = DataLoader(train_dataset, batch_size=32, shuffle=True)\n",
    "test_loader = DataLoader(test_dataset, batch_size=32, shuffle=False)\n"
   ]
  },
  {
   "cell_type": "code",
   "execution_count": null,
   "metadata": {},
   "outputs": [],
   "source": [
    "# Step 4: Neural Network Model\n",
    "class SimpleNN(nn.Module):\n",
    "    def __init__(self):\n",
    "        super(SimpleNN, self).__init__()\n",
    "        self.fc1 = nn.Linear(100, 50)\n",
    "        self.dropout = nn.Dropout(0.5)\n",
    "        self.fc2 = nn.Linear(50, len(np.unique(y_encoded)))\n",
    "\n",
    "    def forward(self, x):\n",
    "        x = torch.relu(self.fc1(x))\n",
    "        x = self.fc2(x)\n",
    "        return x"
   ]
  },
  {
   "cell_type": "code",
   "execution_count": null,
   "metadata": {},
   "outputs": [],
   "source": [
    "# Step 5: Training\n",
    "model = SimpleNN()\n",
    "criterion = nn.CrossEntropyLoss()\n",
    "optimizer = optim.Adam(model.parameters(), lr=0.001)\n",
    "\n",
    "# Training loop\n",
    "num_epochs = 10\n",
    "for epoch in range(num_epochs):\n",
    "    model.train()\n",
    "    for batch_idx, (data, labels) in enumerate(train_loader):\n",
    "        data = data.view(data.size(0), -1)  # Flatten data\n",
    "        labels = labels.long()\n",
    "\n",
    "        optimizer.zero_grad()\n",
    "        outputs = model(data)\n",
    "        loss = criterion(outputs, labels)\n",
    "        loss.backward()\n",
    "        optimizer.step()\n",
    "\n",
    "    print(f\"Epoch [{epoch+1}/{num_epochs}], Loss: {loss.item():.4f}\")\n"
   ]
  },
  {
   "cell_type": "code",
   "execution_count": null,
   "metadata": {},
   "outputs": [],
   "source": [
    "# Step 6: Evaluation\n",
    "model.eval()\n",
    "correct = 0\n",
    "total = 0\n",
    "with torch.no_grad():\n",
    "    for data, labels in test_loader:\n",
    "        data = data.view(data.size(0), -1)\n",
    "        labels = labels.long()\n",
    "        outputs = model(data)\n",
    "        _, predicted = torch.max(outputs.data, 1)\n",
    "        total += labels.size(0)\n",
    "        correct += (predicted == labels).sum().item()\n",
    "\n",
    "accuracy = 100 * correct / total\n",
    "print(f\"Accuracy: {accuracy:.2f}%\")\n"
   ]
  },
  {
   "cell_type": "code",
   "execution_count": null,
   "metadata": {},
   "outputs": [],
   "source": [
    "# Step 7: Visualizing Predictions\n",
    "def visualize_predictions(model, dataset, label_encoder):\n",
    "    model.eval()\n",
    "    with torch.no_grad():\n",
    "        random_indices = np.random.randint(0, len(dataset), 5)\n",
    "        for idx in random_indices:\n",
    "            data, label = dataset[idx]\n",
    "            data = data.view(1, -1)\n",
    "            outputs = model(data)\n",
    "            _, predicted = torch.max(outputs.data, 1)\n",
    "\n",
    "            true_label = label_encoder.inverse_transform([label])[0]\n",
    "            pred_label = label_encoder.inverse_transform(predicted.numpy())[0]\n",
    "\n",
    "            # Reshape and visualize\n",
    "            original_data = dataset[idx][0].view(10, 10).numpy()\n",
    "            plt.imshow(original_data, cmap='gray')\n",
    "            plt.title(f\"True: {true_label}, Predicted: {pred_label}\")\n",
    "            plt.axis(\"off\")\n",
    "            plt.show()\n",
    "\n",
    "visualize_predictions(model, test_dataset, label_encoder)"
   ]
  }
 ],
 "metadata": {
  "kernelspec": {
   "display_name": "base",
   "language": "python",
   "name": "python3"
  },
  "language_info": {
   "name": "python",
   "version": "3.12.2"
  }
 },
 "nbformat": 4,
 "nbformat_minor": 2
}
