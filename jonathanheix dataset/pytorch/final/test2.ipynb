{
 "cells": [
  {
   "cell_type": "code",
   "execution_count": 1,
   "metadata": {},
   "outputs": [
    {
     "name": "stdout",
     "output_type": "stream",
     "text": [
      "Using device:  cuda\n"
     ]
    }
   ],
   "source": [
    "import torch\n",
    "import torch.nn as nn                   #for sequence api in torch\n",
    "from torch.utils.data import DataLoader #for loading images\n",
    "import numpy as np                      #just in case if you need numpy arrays\n",
    "import torchvision.transforms as T      #Used for data preprocessing and converting images to tensors\n",
    "import torchvision.datasets as dset\n",
    "import torch.optim as optim             #For using the desired parameter update\n",
    "import torch.nn.functional as F\n",
    "\n",
    "USE_GPU = True\n",
    "\n",
    "if USE_GPU and torch.cuda.is_available():\n",
    "  device = torch.device('cuda')\n",
    "else:\n",
    "  device = torch.device('cpu')\n",
    "\n",
    "dtype = torch.float32\n",
    "\n",
    "print(\"Using device: \",device)"
   ]
  },
  {
   "cell_type": "code",
   "execution_count": 3,
   "metadata": {},
   "outputs": [
    {
     "name": "stdout",
     "output_type": "stream",
     "text": [
      "Target label: sad\n"
     ]
    },
    {
     "data": {
      "image/png": "[encoded data removed]",
      "text/plain": [
       "<Figure size 640x480 with 1 Axes>"
      ]
     },
     "metadata": {},
     "output_type": "display_data"
    }
   ],
   "source": [
    "import torchvision.transforms as T\n",
    "import torchvision.datasets as dset\n",
    "from torch.utils.data import DataLoader\n",
    "import numpy as np\n",
    "import matplotlib.pyplot as plt\n",
    "import random                   # For selecting a random element from the list\n",
    "\n",
    "# Define transformations\n",
    "transform = T.Compose([T.RandomHorizontalFlip(), T.ToTensor()])\n",
    "\n",
    "# Training data\n",
    "train_data = dset.ImageFolder(\"D:/projects/machine learning/Expression-recognition/jonathanheix dataset/images/images/train\", transform=transform)\n",
    "loaded_train = DataLoader(train_data, batch_size=64, shuffle=True)\n",
    "\n",
    "# Validation data\n",
    "validation_data = dset.ImageFolder(\"D:/projects/machine learning/Expression-recognition/jonathanheix dataset/images/images/validation\", transform=transform)\n",
    "loaded_validation = DataLoader(validation_data, batch_size=64, shuffle=False)\n",
    "\n",
    "# Lists for tracking loss and accuracy\n",
    "loss_history = []\n",
    "validation_acc = []\n",
    "training_acc = []\n",
    "\n",
    "# Visualization setup\n",
    "%matplotlib inline              \n",
    "\n",
    "# Load a batch of training data\n",
    "dataiter = iter(loaded_train)  # Using loaded_train instead of loader_train\n",
    "images, labels = next(dataiter)  # Use next() to get the batch\n",
    "expression = {0: \"angry\", 1: \"disgust\", 2: \"fear\", 3: \"happy\", 4: \"neutral\", 5: \"sad\", 6: \"surprise\"}  # Mapping for labels\n",
    "\n",
    "# Display a random image and its label\n",
    "random_idx = random.sample(range(0, 64), 1)[0]  # Select a random index from 0 to 63\n",
    "print(\"Target label:\", expression[int(labels[random_idx].numpy())])  # Convert label tensor to numpy and map to expression\n",
    "plt.imshow(np.transpose(images[random_idx].numpy(), (1, 2, 0)))  # Display image\n",
    "plt.show()"
   ]
  },
  {
   "cell_type": "code",
   "execution_count": 2,
   "metadata": {},
   "outputs": [],
   "source": [
    "import pandas as pd\n",
    "import numpy as np\n",
    "import torch\n",
    "import torch.nn as nn\n",
    "import torch.optim as optim\n",
    "from sklearn.model_selection import train_test_split, ParameterGrid\n",
    "from sklearn.metrics import classification_report, accuracy_score\n",
    "import matplotlib.pyplot as plt\n",
    "from sklearn.preprocessing import StandardScaler, LabelEncoder\n",
    "from sklearn.decomposition import PCA\n",
    "import os\n",
    "from PIL import Image\n",
    "from pickle import dump, load\n",
    "from sklearn.svm import SVC\n",
    "from torchvision import transforms\n"
   ]
  }
 ],
 "metadata": {
  "kernelspec": {
   "display_name": "Python 3",
   "language": "python",
   "name": "python3"
  },
  "language_info": {
   "codemirror_mode": {
    "name": "ipython",
    "version": 3
   },
   "file_extension": ".py",
   "mimetype": "text/x-python",
   "name": "python",
   "nbconvert_exporter": "python",
   "pygments_lexer": "ipython3",
   "version": "3.12.6"
  }
 },
 "nbformat": 4,
 "nbformat_minor": 2
}
