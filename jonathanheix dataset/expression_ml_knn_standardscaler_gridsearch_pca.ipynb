{
 "cells": [
  {
   "cell_type": "code",
   "execution_count": 1,
   "metadata": {},
   "outputs": [],
   "source": [
    "import os\n",
    "import numpy as np\n",
    "from PIL import Image\n",
    "from sklearn.model_selection import train_test_split\n",
    "from sklearn.preprocessing import LabelEncoder\n",
    "from sklearn.neighbors import KNeighborsClassifier\n",
    "from sklearn.metrics import classification_report, accuracy_score\n",
    "from sklearn.model_selection import GridSearchCV\n",
    "import matplotlib.pyplot as plt\n",
    "from sklearn.preprocessing import StandardScaler\n",
    "from sklearn.decomposition import PCA\n",
    "from sklearn.model_selection import ParameterGrid\n",
    "from pickle import dump, load"
   ]
  },
  {
   "cell_type": "code",
   "execution_count": 14,
   "metadata": {},
   "outputs": [],
   "source": [
    "images_folder = '../images'\n",
    "\n",
    "X = []\n",
    "y = []\n",
    "\n",
    "for subdir, files in os.walk(images_folder):\n",
    "    for file in files:\n",
    "        if file.endswith(('jpg', 'jpeg', 'png')):\n",
    "            img_path = os.path.join(subdir, file)\n",
    "            label = os.path.basename(subdir)\n",
    "            \n",
    "            image = Image.open(img_path).convert('L')\n",
    "            image = image.resize((48, 48))\n",
    "            X.append(np.array(image).flatten())\n",
    "            y.append(label)\n",
    "            \n",
    "# with open(\"knn_standardscaler_gridsearch_xy_dump.pkl\", \"wb\") as f:\n",
    "#     dump((X,y), f, protocol=5)\n",
    "            "
   ]
  },
  {
   "cell_type": "code",
   "execution_count": null,
   "metadata": {},
   "outputs": [],
   "source": [
    "with open(\"svc_standardscaler_gridsearch_xy_dump.pkl\", \"rb\") as f:\n",
    "    X,y = load(f)"
   ]
  },
  {
   "cell_type": "code",
   "execution_count": 15,
   "metadata": {},
   "outputs": [],
   "source": [
    "# Convert lists to NumPy arrays\n",
    "X = np.array(X)\n",
    "y = np.array(y)"
   ]
  },
  {
   "cell_type": "code",
   "execution_count": 16,
   "metadata": {},
   "outputs": [],
   "source": [
    "# Normalize image data\n",
    "X = X / 255.0  # Normalize pixel values to [0, 1]"
   ]
  },
  {
   "cell_type": "code",
   "execution_count": 17,
   "metadata": {},
   "outputs": [],
   "source": [
    "# Encode labels as integers\n",
    "label_encoder = LabelEncoder()\n",
    "y = label_encoder.fit_transform(y)"
   ]
  },
  {
   "cell_type": "code",
   "execution_count": 18,
   "metadata": {},
   "outputs": [],
   "source": [
    "pca = PCA(n_components=100)  # Reduce to 100 components\n",
    "X_reduced = pca.fit_transform(X)"
   ]
  },
  {
   "cell_type": "code",
   "execution_count": 19,
   "metadata": {},
   "outputs": [],
   "source": [
    "scaler = StandardScaler()\n",
    "X_scaled = scaler.fit_transform(X_reduced)"
   ]
  },
  {
   "cell_type": "code",
   "execution_count": 20,
   "metadata": {},
   "outputs": [],
   "source": [
    "# Split into training and test sets\n",
    "X_train, X_test, y_train, y_test = train_test_split(X_scaled, y, test_size=0.2, random_state=42)\n"
   ]
  },
  {
   "cell_type": "code",
   "execution_count": 21,
   "metadata": {},
   "outputs": [
    {
     "name": "stdout",
     "output_type": "stream",
     "text": [
      "Best Parameters: {'metric': 'euclidean', 'n_neighbors': 1, 'weights': 'uniform'}\n"
     ]
    }
   ],
   "source": [
    "# Grid Search\n",
    "param_grid = {\n",
    "    'n_neighbors': [1, 3, 5, 7],  \n",
    "    'metric': ['euclidean', 'manhattan'],\n",
    "    'weights': ['uniform', 'distance']  \n",
    "}\n",
    "\n",
    "best_combination = 0\n",
    "best_accuracy = 0\n",
    "\n",
    "all_combinations = list(ParameterGrid(param_grid))\n",
    "\n",
    "for combination in all_combinations:\n",
    "    print(combination)\n",
    "    knn_model =  KNeighborsClassifier(**combination)\n",
    "    knn_model.fit(X_train, y_train)\n",
    "    \n",
    "    # Make predictions\n",
    "    y_pred = knn_model.predict(X_test)\n",
    "    \n",
    "    # Evaluate the model\n",
    "    accuracy = accuracy_score(y_test, y_pred)\n",
    "    print(f\"Accuracy: {accuracy:.2f}\")\n",
    "    print(\"Classification Report:\")\n",
    "    print(classification_report(y_test, y_pred, target_names=label_encoder.classes_))\n",
    "    \n",
    "    if accuracy > best_accuracy:\n",
    "        best_accuracy = accuracy\n",
    "        best_combination = combination\n",
    "\n",
    "    \n",
    "# Print the best combination\n",
    "print(\"\\nBest Combination:\", best_combination)\n",
    "print(f\"Best Accuracy: {best_accuracy:.2f}\")\n",
    "print(\"\\nTotal combinations:\", len(all_combinations))\n",
    "\n",
    "knn_model = KNeighborsClassifier(**best_combination)\n",
    "knn_model.fit(X_train, y_train)\n",
    "\n",
    "with open(\"knn_model_standardscaler_grisearch_pca_dump.pkl\", \"wb\") as f:\n",
    "    dump(knn_model, f, protocol=5)\n",
    "    \n",
    "print(\"Best model saved successfully!\")"
   ]
  },
  {
   "cell_type": "code",
   "execution_count": 22,
   "metadata": {},
   "outputs": [
    {
     "data": {
      "text/plain": [
       "array([4, 3, 3, ..., 4, 5, 2])"
      ]
     },
     "execution_count": 22,
     "metadata": {},
     "output_type": "execute_result"
    }
   ],
   "source": [
    "# Make Prediciton\n",
    "best_knn = knn_model.best_estimator_\n",
    "best_knn\n",
    "y_pred = best_knn.predict(X_test)\n",
    "y_pred"
   ]
  },
  {
   "cell_type": "code",
   "execution_count": 23,
   "metadata": {},
   "outputs": [
    {
     "name": "stdout",
     "output_type": "stream",
     "text": [
      "Classification Report:\n",
      "Accuracy: 0.8781609195402299\n",
      "              precision    recall  f1-score   support\n",
      "\n",
      "       angry       0.88      0.86      0.87      1963\n",
      "     disgust       0.86      0.94      0.89       217\n",
      "        fear       0.87      0.87      0.87      2064\n",
      "       happy       0.92      0.87      0.90      3590\n",
      "     neutral       0.81      0.89      0.85      2504\n",
      "         sad       0.87      0.87      0.87      2417\n",
      "    surprise       0.90      0.92      0.91      1600\n",
      "\n",
      "    accuracy                           0.88     14355\n",
      "   macro avg       0.88      0.89      0.88     14355\n",
      "weighted avg       0.88      0.88      0.88     14355\n",
      "\n",
      "Accuracy: 0.88\n"
     ]
    }
   ],
   "source": [
    "# # Evaluate the model\n",
    "# print(\"Classification Report:\")\n",
    "# print(\"Accuracy:\", accuracy_score(y_test, y_pred))\n",
    "# print(classification_report(y_test, y_pred, target_names=label_encoder.classes_))\n",
    "# print(f\"Accuracy: {accuracy_score(y_test, y_pred):.2f}\")"
   ]
  },
  {
   "cell_type": "code",
   "execution_count": 24,
   "metadata": {},
   "outputs": [
    {
     "ename": "IndexError",
     "evalue": "index 15522 is out of bounds for axis 0 with size 14355",
     "output_type": "error",
     "traceback": [
      "\u001b[1;31m---------------------------------------------------------------------------\u001b[0m",
      "\u001b[1;31mIndexError\u001b[0m                                Traceback (most recent call last)",
      "Cell \u001b[1;32mIn[24], line 6\u001b[0m\n\u001b[0;32m      4\u001b[0m image \u001b[38;5;241m=\u001b[39m X[idx]\u001b[38;5;241m.\u001b[39mreshape(\u001b[38;5;241m48\u001b[39m, \u001b[38;5;241m48\u001b[39m)  \u001b[38;5;66;03m# Original data\u001b[39;00m\n\u001b[0;32m      5\u001b[0m plt\u001b[38;5;241m.\u001b[39mimshow(image, cmap\u001b[38;5;241m=\u001b[39m\u001b[38;5;124m'\u001b[39m\u001b[38;5;124mgray\u001b[39m\u001b[38;5;124m'\u001b[39m)\n\u001b[1;32m----> 6\u001b[0m plt\u001b[38;5;241m.\u001b[39mtitle(\u001b[38;5;124mf\u001b[39m\u001b[38;5;124m\"\u001b[39m\u001b[38;5;124mTrue: \u001b[39m\u001b[38;5;132;01m{\u001b[39;00m\u001b[43my_test\u001b[49m\u001b[43m[\u001b[49m\u001b[43midx\u001b[49m\u001b[43m]\u001b[49m\u001b[38;5;132;01m}\u001b[39;00m\u001b[38;5;124m, Predicted: \u001b[39m\u001b[38;5;132;01m{\u001b[39;00my_pred[idx]\u001b[38;5;132;01m}\u001b[39;00m\u001b[38;5;124m\"\u001b[39m)\n\u001b[0;32m      7\u001b[0m plt\u001b[38;5;241m.\u001b[39maxis(\u001b[38;5;124m'\u001b[39m\u001b[38;5;124moff\u001b[39m\u001b[38;5;124m'\u001b[39m)\n\u001b[0;32m      8\u001b[0m plt\u001b[38;5;241m.\u001b[39mshow()\n",
      "\u001b[1;31mIndexError\u001b[0m: index 15522 is out of bounds for axis 0 with size 14355"
     ]
    },
    {
     "data": {
      "image/png": "[encoded data removed]",
      "text/plain": [
       "<Figure size 640x480 with 1 Axes>"
      ]
     },
     "metadata": {},
     "output_type": "display_data"
    }
   ],
   "source": [
    "# Use the original dataset for visualization\n",
    "for i in range(5):\n",
    "    idx = np.random.randint(0, len(X))\n",
    "    image = X[idx].reshape(48, 48)  # Original data\n",
    "    plt.imshow(image, cmap='gray')\n",
    "    plt.title(f\"True: {y_test[idx]}, Predicted: {y_pred[idx]}\")\n",
    "    plt.axis('off')\n",
    "    plt.show()\n"
   ]
  }
 ],
 "metadata": {
  "kernelspec": {
   "display_name": "base",
   "language": "python",
   "name": "python3"
  },
  "language_info": {
   "codemirror_mode": {
    "name": "ipython",
    "version": 3
   },
   "file_extension": ".py",
   "mimetype": "text/x-python",
   "name": "python",
   "nbconvert_exporter": "python",
   "pygments_lexer": "ipython3",
   "version": "3.12.2"
  }
 },
 "nbformat": 4,
 "nbformat_minor": 2
}
