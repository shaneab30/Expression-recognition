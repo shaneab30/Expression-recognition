{
 "cells": [
  {
   "cell_type": "code",
   "execution_count": 1,
   "metadata": {},
   "outputs": [],
   "source": [
    "import pandas as pd\n",
    "import numpy as np\n",
    "from sklearn.model_selection import train_test_split\n",
    "from sklearn.neighbors import KNeighborsClassifier\n",
    "from sklearn.model_selection import GridSearchCV\n",
    "from sklearn.metrics import classification_report, accuracy_score\n",
    "import matplotlib.pyplot as plt\n",
    "from sklearn.preprocessing import StandardScaler\n",
    "from sklearn.decomposition import PCA\n",
    "from sklearn.feature_selection import RFE\n",
    "from sklearn.feature_selection import SequentialFeatureSelector\n"
   ]
  },
  {
   "cell_type": "code",
   "execution_count": 2,
   "metadata": {},
   "outputs": [],
   "source": [
    "# Load dataset\n",
    "data = pd.read_csv('/Users/shaneab/Projects/Machine Learning/Expression recognition/fer20131.csv')\n",
    "X = np.array([np.fromstring(pixel, dtype=int, sep=' ') for pixel in data['pixels']])\n",
    "y = data['emotion'].values\n"
   ]
  },
  {
   "cell_type": "code",
   "execution_count": 3,
   "metadata": {},
   "outputs": [],
   "source": [
    "# Normalize pixel values\n",
    "X = X / 255.0"
   ]
  },
  {
   "cell_type": "code",
   "execution_count": 4,
   "metadata": {},
   "outputs": [
    {
     "data": {
      "text/plain": [
       "array([[-0.60646962, -0.4562069 , -0.4011047 , ..., -0.08714567,\n",
       "        -0.05788751, -0.41197523],\n",
       "       [ 0.37587539,  0.40796695,  0.41422283, ...,  1.03537587,\n",
       "         0.88911749,  0.88301341],\n",
       "       [ 1.34609268,  1.17337807,  0.52711433, ..., -0.3193915 ,\n",
       "        -0.04509014,  0.47674246],\n",
       "       ...,\n",
       "       [-1.24923857, -1.23396336, -1.22897574, ...,  0.53217656,\n",
       "         0.24924925, -0.01840025],\n",
       "       [-1.09157826, -1.09816461, -1.07845373, ..., -1.00322646,\n",
       "        -1.06887933, -1.09755746],\n",
       "       [-1.22498314, -1.28334472, -1.25406274, ...,  0.98376568,\n",
       "         1.09387532,  1.09884485]])"
      ]
     },
     "execution_count": 4,
     "metadata": {},
     "output_type": "execute_result"
    }
   ],
   "source": [
    "#Normalisasi Data\n",
    "scaler = StandardScaler()\n",
    "X_scaled = scaler.fit_transform(X)\n",
    "X_scaled"
   ]
  },
  {
   "cell_type": "code",
   "execution_count": 5,
   "metadata": {},
   "outputs": [],
   "source": [
    "# Reduce dimensionality with PCA\n",
    "pca = PCA(n_components=100)\n",
    "X_pca = pca.fit_transform(X_scaled)"
   ]
  },
  {
   "cell_type": "code",
   "execution_count": 6,
   "metadata": {},
   "outputs": [],
   "source": [
    "knn = KNeighborsClassifier(n_neighbors=1)"
   ]
  },
  {
   "cell_type": "code",
   "execution_count": 7,
   "metadata": {},
   "outputs": [],
   "source": [
    "# Apply Sequential Feature Selection (SFS) for feature selection\n",
    "selector = SequentialFeatureSelector(knn, n_features_to_select=20, direction='forward')\n",
    "X_selected = selector.fit_transform(X_pca, y) "
   ]
  },
  {
   "cell_type": "code",
   "execution_count": 8,
   "metadata": {},
   "outputs": [
    {
     "data": {
      "text/plain": [
       "array([[-23.24064106, -11.57598653,  14.13890421, ...,   9.19500188,\n",
       "          1.89554981,   0.54534249],\n",
       "       [-19.28521726,   6.41154315,  31.6600425 , ...,   4.18119088,\n",
       "          2.81722357,   0.69166232],\n",
       "       [ 23.26895285, -23.85334953,  -6.94569126, ...,   1.95358577,\n",
       "         -0.34063448,  -0.87822923],\n",
       "       ...,\n",
       "       [-15.60397751,   1.70759424,   1.79209842, ...,  -2.87266693,\n",
       "          2.69775142,  -0.96955013],\n",
       "       [ 25.99418322,   4.57945957, -10.16653206, ...,  -1.10980532,\n",
       "          3.28720769,  -1.14658702],\n",
       "       [-72.15384978,   7.76697874,  20.09596846, ...,   0.43491448,\n",
       "         -2.60244685,  -1.11158996]])"
      ]
     },
     "execution_count": 8,
     "metadata": {},
     "output_type": "execute_result"
    }
   ],
   "source": [
    "# Split dataset\n",
    "X_train, X_test, y_train, y_test = train_test_split(X_selected, y, test_size=0.2, random_state=42)\n",
    "X_train\n"
   ]
  },
  {
   "cell_type": "code",
   "execution_count": 9,
   "metadata": {},
   "outputs": [
    {
     "name": "stdout",
     "output_type": "stream",
     "text": [
      "Best Parameters: {'n_neighbors': 1}\n"
     ]
    }
   ],
   "source": [
    "# Grid Search\n",
    "param_grid = {'n_neighbors': [1, 3, 5, 7, 9]}\n",
    "knn_model = GridSearchCV(KNeighborsClassifier(), param_grid, cv=5)\n",
    "knn_model.fit(X_train, y_train)\n",
    "print(\"Best Parameters:\", knn_model.best_params_)"
   ]
  },
  {
   "cell_type": "code",
   "execution_count": 10,
   "metadata": {},
   "outputs": [
    {
     "data": {
      "text/plain": [
       "array([3, 6, 3, ..., 3, 3, 3])"
      ]
     },
     "execution_count": 10,
     "metadata": {},
     "output_type": "execute_result"
    }
   ],
   "source": [
    "# Make Prediciton\n",
    "best_knn = knn_model.best_estimator_\n",
    "best_knn\n",
    "y_pred = best_knn.predict(X_test)\n",
    "y_pred"
   ]
  },
  {
   "cell_type": "code",
   "execution_count": 11,
   "metadata": {},
   "outputs": [
    {
     "name": "stdout",
     "output_type": "stream",
     "text": [
      "Accuracy: 0.40568403455001395\n",
      "Classification Report:\n",
      "               precision    recall  f1-score   support\n",
      "\n",
      "           0       0.36      0.35      0.36       985\n",
      "           1       0.40      0.58      0.47       102\n",
      "           2       0.44      0.42      0.43      1043\n",
      "           3       0.44      0.44      0.44      1765\n",
      "           4       0.34      0.33      0.34      1210\n",
      "           5       0.53      0.59      0.56       795\n",
      "           6       0.34      0.34      0.34      1278\n",
      "\n",
      "    accuracy                           0.41      7178\n",
      "   macro avg       0.41      0.43      0.42      7178\n",
      "weighted avg       0.40      0.41      0.40      7178\n",
      "\n"
     ]
    }
   ],
   "source": [
    "# Evaluate\n",
    "print(\"Accuracy:\", accuracy_score(y_test, y_pred))\n",
    "print(\"Classification Report:\\n\", classification_report(y_test, y_pred))"
   ]
  }
 ],
 "metadata": {
  "kernelspec": {
   "display_name": "base",
   "language": "python",
   "name": "python3"
  },
  "language_info": {
   "codemirror_mode": {
    "name": "ipython",
    "version": 3
   },
   "file_extension": ".py",
   "mimetype": "text/x-python",
   "name": "python",
   "nbconvert_exporter": "python",
   "pygments_lexer": "ipython3",
   "version": "3.12.2"
  }
 },
 "nbformat": 4,
 "nbformat_minor": 2
}
